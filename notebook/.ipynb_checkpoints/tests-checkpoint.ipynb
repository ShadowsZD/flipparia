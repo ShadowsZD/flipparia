{
 "cells": [
  {
   "cell_type": "code",
   "execution_count": 8,
   "id": "5fd74b9c",
   "metadata": {},
   "outputs": [],
   "source": [
    "import requests\n",
    "import pandas as pd"
   ]
  },
  {
   "cell_type": "code",
   "execution_count": 9,
   "id": "d5f5c9b1",
   "metadata": {},
   "outputs": [],
   "source": [
    "base_item_url = \"https://poe.ninja/api/data/itemoverview?league={league}&type={item}\"\n",
    "base_currency_url = \"https://poe.ninja/api/data/currencyoverview?league={league}&type={item}\"\n",
    "league = \"Ancestor\""
   ]
  },
  {
   "cell_type": "code",
   "execution_count": 10,
   "id": "484f0078",
   "metadata": {},
   "outputs": [],
   "source": [
    "def template_replace(template_input, item_type):\n",
    "    '''\n",
    "    Replace template url to be an f-string\n",
    "    '''\n",
    "    item = item_type\n",
    "    return eval(f\"f'{template_input}'\")"
   ]
  },
  {
   "cell_type": "code",
   "execution_count": 11,
   "id": "4884a943",
   "metadata": {},
   "outputs": [],
   "source": [
    "def chance_calculator(prob_occurence):\n",
    "    fail_prob = 1 - prob_occurence\n",
    "    tot_chance = fail_prob\n",
    "    times = 1\n",
    "    while tot_chance >= prob_occurence:\n",
    "        tot_chance = fail_prob ** times\n",
    "        times += 1\n",
    "    return times"
   ]
  },
  {
   "cell_type": "code",
   "execution_count": 12,
   "id": "e77e4ae7",
   "metadata": {},
   "outputs": [],
   "source": [
    "def get_currency_data():\n",
    "    currencies = [\"Currency\"]\n",
    "    currency_price_data = {}\n",
    "    raw_currency_data = {}\n",
    "\n",
    "    for currency in currencies:\n",
    "        raw_currency_data[currency] = requests.get(template_replace(base_currency_url, currency)).json()\n",
    "        \n",
    "    for currency in raw_currency_data[\"Currency\"][\"lines\"]:\n",
    "        currency_price_data[currency[\"currencyTypeName\"]] = {\n",
    "           \"chaosValue\": currency[\"chaosEquivalent\"]\n",
    "        }\n",
    "    \n",
    "    return pd.DataFrame.from_dict(currency_price_data, orient=\"index\")"
   ]
  },
  {
   "cell_type": "code",
   "execution_count": 17,
   "id": "32d381ed",
   "metadata": {},
   "outputs": [],
   "source": [
    "def get_item_data():\n",
    "    items = [\"Scarab\", \"DeliriumOrb\", \"Essence\"]\n",
    "    item_price_data = {}\n",
    "    raw_item_data = {}\n",
    "\n",
    "    for item in items:\n",
    "        raw_item_data[item] = requests.get(template_replace(base_item_url, item)).json()\n",
    "    \n",
    "    for category, data in raw_item_data.items():\n",
    "        for item in data.get(\"lines\"):\n",
    "            item_price_data[item[\"name\"]] = {\n",
    "                \"chaosValue\": item[\"chaosValue\"],\n",
    "                \"exaltedValue\": item[\"exaltedValue\"],\n",
    "                \"divineValue\": item[\"divineValue\"]\n",
    "            }\n",
    "\n",
    "    return pd.DataFrame.from_dict(item_price_data, orient=\"index\")"
   ]
  },
  {
   "cell_type": "code",
   "execution_count": 18,
   "id": "364b22f8",
   "metadata": {},
   "outputs": [],
   "source": [
    "currency_df = get_currency_data()"
   ]
  },
  {
   "cell_type": "code",
   "execution_count": 25,
   "id": "420ac95f",
   "metadata": {},
   "outputs": [],
   "source": [
    "item_df = get_item_data()"
   ]
  },
  {
   "cell_type": "code",
   "execution_count": 19,
   "id": "d4299630",
   "metadata": {},
   "outputs": [],
   "source": [
    "harvest_df = currency_df.filter(like='Lifeforce', axis=0)\n",
    "delirium_df = item_df.filter(like='Delirium Orb', axis=0)\n",
    "scarab_df = item_df.filter(like='Scarab', axis=0)\n",
    "essence_df = item_df.filter(like='Essence', axis=0)"
   ]
  },
  {
   "cell_type": "code",
   "execution_count": 63,
   "id": "344e71f8",
   "metadata": {},
   "outputs": [
    {
     "data": {
      "text/plain": [
       "Skittering Delirium Orb        33.0\n",
       "Diviner's Delirium Orb         21.0\n",
       "Fine Delirium Orb              11.0\n",
       "Cartographer's Delirium Orb    10.0\n",
       "Thaumaturge's Delirium Orb     10.0\n",
       "Fragmented Delirium Orb         9.0\n",
       "Singular Delirium Orb           9.0\n",
       "Armoursmith's Delirium Orb      9.0\n",
       "Foreboding Delirium Orb         9.0\n",
       "Amorphous Delirium Orb          9.0\n",
       "Blighted Delirium Orb           9.0\n",
       "Timeless Delirium Orb           9.0\n",
       "Whispering Delirium Orb         9.0\n",
       "Imperial Delirium Orb           8.0\n",
       "Jeweller's Delirium Orb         8.0\n",
       "Abyssal Delirium Orb            8.0\n",
       "Obscured Delirium Orb           8.0\n",
       "Fossilised Delirium Orb         8.0\n",
       "Blacksmith's Delirium Orb       8.0\n",
       "Name: chaosValue, dtype: float64"
      ]
     },
     "execution_count": 63,
     "metadata": {},
     "output_type": "execute_result"
    }
   ],
   "source": [
    "#refactor this calculation to consider harvest price for better accuracy\n",
    "delirium_df[\"chaosValue\"]"
   ]
  },
  {
   "cell_type": "code",
   "execution_count": 56,
   "id": "f105feef",
   "metadata": {},
   "outputs": [],
   "source": [
    "max_value_delirium = delirium_df[\"chaosValue\"].max()"
   ]
  },
  {
   "cell_type": "code",
   "execution_count": 62,
   "id": "b35853fd",
   "metadata": {
    "scrolled": true
   },
   "outputs": [],
   "source": [
    "primal_lifeforce_unit_price = harvest_df.at[\"Primal Crystallised Lifeforce\", 'chaosValue']\n",
    "vivid_lifeforce_unit_price = harvest_df.at[\"Vivid Crystallised Lifeforce\", 'chaosValue']\n",
    "wild_lifeforce_unit_price = harvest_df.at[\"Wild Crystallised Lifeforce\", 'chaosValue']"
   ]
  },
  {
   "cell_type": "code",
   "execution_count": 113,
   "id": "2373b3a9",
   "metadata": {},
   "outputs": [],
   "source": [
    "def delirium_profit_calc():\n",
    "    min_value_delirium = delirium_df[\"chaosValue\"].min()\n",
    "    \n",
    "    max_stack_size = 10\n",
    "    min_profit_margin = 20\n",
    "    base_cost_delirium_orbs = min_value_delirium * 10\n",
    "    crafting_try_cost = 30 * primal_lifeforce_unit_price * max_stack_size\n",
    "    \n",
    "    min_craft_cost = min_value_delirium * max_stack_size + crafting_try_cost\n",
    "    profit_orbs = delirium_df[delirium_df[\"chaosValue\"] * max_stack_size >= min_craft_cost + min_profit_margin]\n",
    "    \n",
    "    chance_to_hit = len(profit_orbs) / (len(delirium_df) - 1)\n",
    "    worst_case_tries = chance_calculator(chance_to_hit)\n",
    "    \n",
    "    best_scenario = base_cost_delirium_orbs + crafting_try_cost * 1\n",
    "    avg_scenario = base_cost_delirium_orbs + crafting_try_cost * (1 / chance_to_hit)\n",
    "    worst_scenario = base_cost_delirium_orbs + crafting_try_cost * worst_case_tries\n",
    "    \n",
    "    costs = {\n",
    "        \"Best Scenario\": best_scenario,\n",
    "        \"Avg Scenario\": avg_scenario, \n",
    "        \"Worst Scenario\": worst_scenario\n",
    "    }\n",
    "    \n",
    "    for i in range(len(profit_orbs), 0, -1):\n",
    "        avg_profit = profit_orbs[\"chaosValue\"].sum() * 10 / len(profit_orbs)\n",
    "    \n",
    "        print(f\"Calculating profit when targetting {profit_orbs.head(i).index.tolist()}\")\n",
    "\n",
    "        for scenario, cost in costs.items():\n",
    "            profit = avg_profit - cost\n",
    "            print(f\"\"\"{scenario} cost: {cost:.0f} C. \n",
    "                Orbs: {base_cost_delirium_orbs} C.\n",
    "                Crafting try: {crafting_try_cost} C.\n",
    "                Profit: {profit:.0f} C!\\n\"\"\")\n",
    "        print(\"\\n\")"
   ]
  },
  {
   "cell_type": "code",
   "execution_count": null,
   "id": "b7e9620b",
   "metadata": {},
   "outputs": [],
   "source": [
    "delirium_profit_calc()"
   ]
  }
 ],
 "metadata": {
  "kernelspec": {
   "display_name": "Python 3 (ipykernel)",
   "language": "python",
   "name": "python3"
  },
  "language_info": {
   "codemirror_mode": {
    "name": "ipython",
    "version": 3
   },
   "file_extension": ".py",
   "mimetype": "text/x-python",
   "name": "python",
   "nbconvert_exporter": "python",
   "pygments_lexer": "ipython3",
   "version": "3.11.5"
  }
 },
 "nbformat": 4,
 "nbformat_minor": 5
}
